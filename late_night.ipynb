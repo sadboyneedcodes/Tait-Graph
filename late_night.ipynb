{
 "cells": [
  {
   "cell_type": "markdown",
   "metadata": {},
   "source": [
    "# The Tait Graph Algorithm\n",
    "\n",
    "##### Here we present an implementation of the algorithm described in [] to compute the Tait graph from a PD-code. \n",
    "\n",
    "###### TODO: 1) Implement the directed edge from the silver-williams paper.\n",
    "######       2) Implement handling of R1 and self loops\n",
    "######       3) Implement finding the white graph when interior R1 moves are present"
   ]
  },
  {
   "cell_type": "code",
   "execution_count": 7,
   "metadata": {
    "vscode": {
     "languageId": "sage"
    }
   },
   "outputs": [],
   "source": [
    "def color_and_plot_graph(g):\n",
    "    red_edges = [e for e in g.edge_iterator() if e[2] == 1]\n",
    "    g.plot(edge_color='blue', edge_colors={'red': red_edges}).show(figsize = 6)"
   ]
  },
  {
   "cell_type": "code",
   "execution_count": 2,
   "metadata": {
    "vscode": {
     "languageId": "sage"
    }
   },
   "outputs": [],
   "source": [
    "import sage.graphs.graph as graph\n",
    "\n",
    "def tait_graph(K):\n",
    "    regions = [[abs(element) for element in sublist] for sublist in K.regions()]\n",
    "    crossings = [set(pd) for pd in K.pd_code()]\n",
    "\n",
    "    faces_static = {index: tuple(region) for index, region in enumerate(regions)}\n",
    "    faces = {tuple(region): index for index, region in enumerate(regions)}\n",
    "    edges = []\n",
    "    seen = []\n",
    "\n",
    "    for ind in range(len(faces)):\n",
    "        common_list = [c for c in crossings if len(set(faces_static[ind]).intersection(c)) == 2]\n",
    "\n",
    "        set_diff = [set(c).difference(faces_static[ind]) for c in common_list]\n",
    "\n",
    "        neighboring_regions = [(key, value) for key, value in faces_static.items() for s in set_diff if len(set(value).intersection(s)) == 2]\n",
    "        neighboring_regions_list = [region for region in regions for s in set_diff if len(set(region).intersection(s)) == 2]\n",
    "\n",
    "        for i in range(len(neighboring_regions)):\n",
    "            if neighboring_regions[i][1] not in seen:\n",
    "                edges.append((faces[faces_static[ind]], neighboring_regions[i][0], weights(K.pd_code(), list(faces_static[ind]), neighboring_regions_list[i])))\n",
    "        seen.append(faces_static[ind])\n",
    "    G = graph.Graph(edges, multiedges=True, loops = True)\n",
    "    components = G.connected_components()\n",
    "    if len(components) > 2:\n",
    "        raise ValueError('The link diagram is split.')\n",
    "    return G.subgraph(components[0]), G.subgraph(components[1])"
   ]
  },
  {
   "cell_type": "code",
   "execution_count": 12,
   "metadata": {
    "vscode": {
     "languageId": "sage"
    }
   },
   "outputs": [],
   "source": [
    "#find pd_code such that the union of region and neighboring region intersect with pd_code is exactly of length 4\n",
    "def find_pd_code(pd_code, region, neighboring_region):\n",
    "    print(f\"region: {region}\")\n",
    "    combined = set(region).union(set(neighboring_region))\n",
    "    for pd in pd_code:\n",
    "        if len(combined.intersection(set(pd))) == 4:\n",
    "            print(f\"find_pd_code: {pd}\")\n",
    "            return pd\n",
    "\n",
    "def matches_cyclic_order(corner, crossing):\n",
    "    n = len(crossing)\n",
    "    for i in range(n):\n",
    "        if crossing[i] == corner[0] and crossing[(i + 1) % n] == corner[1]:\n",
    "            return True\n",
    "    return False\n",
    "\n",
    "def weights(pd_code, region, neighboring_region):\n",
    "    #the set of cyclic pairs for a region. can think of it as the corners of the crossings as one walks counter clockwise around the region\n",
    "    #turning left at each crossing\n",
    "    cyclic_pairs = [[region[i], region[(i + 1) % len(region)]] for i in range(len(region))]\n",
    "    \n",
    "    #TODO: implement differentiation between crossings in the find_pd_code between two regions that share more than one 'edge' (compatibility iwth R2 moves)\n",
    "\n",
    "    crossing = find_pd_code(pd_code, region, neighboring_region)\n",
    "\n",
    "    corner = [c for c in cyclic_pairs if len(set(c).intersection(set(crossing))) == 2]\n",
    "    print(f\"corner: {corner}\")\n",
    "    \n",
    "    if len(corner) > 1:\n",
    "        # Find the corner that matches the order in the crossing list\n",
    "        corner = [corner for corner in corner if matches_cyclic_order(corner, crossing)]\n",
    "\n",
    "    \"\"\"\n",
    "    check the index of the first value in the cyclic pairs list for each cyclic pair and see which strand it is in the pd_code\n",
    "    the first element in a cyclic pair is the 'incoming' strand that forms the region\n",
    "    if the corresponding index is 0 or 2, then it is the understrand, and thus the overstrand passes from left to right\n",
    "    and the crossing is positive. if the index is 1 or 3, then it is a component of the overstrand, and the overstrand\n",
    "    passes right to left and the crossing is negative\n",
    "    \"\"\"\n",
    "\n",
    "    index_of_crossing = crossing.index(corner[0][0])    \n",
    "    if index_of_crossing == 0 or index_of_crossing == 2:\n",
    "        return 1\n",
    "    else:\n",
    "        return -1"
   ]
  },
  {
   "cell_type": "code",
   "execution_count": 5,
   "metadata": {
    "vscode": {
     "languageId": "sage"
    }
   },
   "outputs": [
    {
     "name": "stdout",
     "output_type": "stream",
     "text": [
      "{0: 0, 2: 1, 5: 2, 8: 3, 9: 4}\n",
      "21\n"
     ]
    }
   ],
   "source": [
    "def weighted_laplacian(G):\n",
    "    edge_list = G.edges()\n",
    "    vertices = G.get_vertices()\n",
    "    vert_list = G.vertices()\n",
    "    vert_dictionary = {value: key for key, value in enumerate(vertices)}\n",
    "    print(vert_dictionary)\n",
    "    n = G.order()\n",
    "    M = Matrix(QQ, n, n)\n",
    "    for e in edge_list:\n",
    "        M[vert_dictionary[e[0]],vert_dictionary[e[1]]] += e[2]\n",
    "        M[vert_dictionary[e[1]],vert_dictionary[e[0]]] += e[2]\n",
    "        M[vert_dictionary[e[0]],vert_dictionary[e[0]]] -= e[2]\n",
    "        M[vert_dictionary[e[1]],vert_dictionary[e[1]]] -= e[2]\n",
    "    return M\n",
    "\n",
    "def reduced_weighted_laplacian(M, i):\n",
    "    return M.delete_rows([i]).delete_columns([i])"
   ]
  },
  {
   "cell_type": "markdown",
   "metadata": {},
   "source": [
    "### Chase's Type I/II Stuff"
   ]
  },
  {
   "cell_type": "code",
   "execution_count": 4,
   "metadata": {
    "vscode": {
     "languageId": "sage"
    }
   },
   "outputs": [],
   "source": [
    "def abs_regions(self):\n",
    "    regions = self.regions()\n",
    "    return [set(abs(element) for element in reg) for reg in regions]\n",
    "\n",
    "def weight(tuple, kt):\n",
    "    if kt == 'TypeI':\n",
    "        if int(tuple[2]) % 2 == 1:\n",
    "            return +1\n",
    "        else:\n",
    "            return -1\n",
    "    else:\n",
    "        if int(tuple[2]) % 2 == 1:\n",
    "            return -1\n",
    "        else:\n",
    "            return +1\n",
    "\n",
    "#returns the length of the intersection of two sets. used primarily for the weights of the crossings, as a set is unordered.\n",
    "def common_elements(lst, s):\n",
    "    list_set = set(lst)\n",
    "    common = list_set.intersection(s)\n",
    "    return len(common)"
   ]
  }
 ],
 "metadata": {
  "kernelspec": {
   "display_name": "SageMath 9.5",
   "language": "sage",
   "name": "sagemath"
  },
  "language_info": {
   "codemirror_mode": {
    "name": "ipython",
    "version": 3
   },
   "file_extension": ".py",
   "mimetype": "text/x-python",
   "name": "python",
   "nbconvert_exporter": "python",
   "pygments_lexer": "ipython3",
   "version": "3.10.12"
  }
 },
 "nbformat": 4,
 "nbformat_minor": 2
}
